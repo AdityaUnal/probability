{
  "nbformat": 4,
  "nbformat_minor": 0,
  "metadata": {
    "colab": {
      "provenance": [],
      "authorship_tag": "ABX9TyMYynEIBNj0N6sYzwWa/liZ",
      "include_colab_link": true
    },
    "kernelspec": {
      "name": "python3",
      "display_name": "Python 3"
    },
    "language_info": {
      "name": "python"
    }
  },
  "cells": [
    {
      "cell_type": "markdown",
      "metadata": {
        "id": "view-in-github",
        "colab_type": "text"
      },
      "source": [
        "<a href=\"https://colab.research.google.com/github/AdityaUnal/probability/blob/main/character_BM21BTECH11003.ipynb\" target=\"_parent\"><img src=\"https://colab.research.google.com/assets/colab-badge.svg\" alt=\"Open In Colab\"/></a>"
      ]
    },
    {
      "cell_type": "markdown",
      "source": [
        "Importing Libraries"
      ],
      "metadata": {
        "id": "MQbE1bJr8pgr"
      }
    },
    {
      "cell_type": "code",
      "source": [
        "import numpy as np\n",
        "import matplotlib.pyplot as plt"
      ],
      "metadata": {
        "id": "DXZ1PeSy84B0"
      },
      "execution_count": null,
      "outputs": []
    },
    {
      "cell_type": "markdown",
      "source": [
        "\n",
        "Calculating P(Xi|0);"
      ],
      "metadata": {
        "id": "7PnY5gEYb_ja"
      }
    },
    {
      "cell_type": "code",
      "source": [
        "corpus_zero=[]\n",
        "corpus_zero.append(\"0110100110010110\")\n",
        "corpus_zero.append(\"0000011100110000\")\n",
        "corpus_zero.append(\"0110010101110000\")\n",
        "corpus_zero.append(\"0000011001100110\")\n",
        "corpus_zero.append(\"0011010101010110\")\n",
        "corpus_zero.append(\"1110101011101100\")\n",
        "corpus_zero.append(\"0111100110010111\")\n",
        "corpus_zero.append(\"0000011101010111\")\n",
        "corpus_zero.append(\"0110011001100000\")\n",
        "corpus_zero.append(\"1110100110011111\")\n",
        "\n",
        "P_0=[0 for i in range(16)]\n",
        "x=len(corpus_zero)\n",
        "\n",
        "for i in corpus_zero:\n",
        "    for j in range(16):\n",
        "        if i[j] == '1':\n",
        "            P_0[j] = P_0[j] + 1/x\n"
      ],
      "metadata": {
        "id": "mJ9Uyyysc1Z0"
      },
      "execution_count": null,
      "outputs": []
    },
    {
      "cell_type": "markdown",
      "source": [
        "Calculating P(Xi|1)"
      ],
      "metadata": {
        "id": "cXfGLhIolg-9"
      }
    },
    {
      "cell_type": "code",
      "source": [
        "corpus_one=[]\n",
        "corpus_one.append(\"0010011001100000\")\n",
        "corpus_one.append(\"0001000100110010\")\n",
        "corpus_one.append(\"1110110011100000\")\n",
        "corpus_one.append(\"0010010001000100\")\n",
        "corpus_one.append(\"0010001000100010\")\n",
        "corpus_one.append(\"0010011001000000\")\n",
        "corpus_one.append(\"0111001000111100\")\n",
        "corpus_one.append(\"0000000100010001\")\n",
        "corpus_one.append(\"0110001001110000\")\n",
        "corpus_one.append(\"0100010001000100\")\n",
        "\n",
        "P_1=[0 for i in range(16)]\n",
        "\n",
        "x=len(corpus_one)\n",
        "\n",
        "for i in corpus_one:\n",
        "    for j in range(16):\n",
        "        if i[j] == '1':\n",
        "            P_1[j] = P_1[j] + 1/x"
      ],
      "metadata": {
        "id": "wcxKYiYLiPG8"
      },
      "execution_count": null,
      "outputs": []
    },
    {
      "cell_type": "markdown",
      "source": [
        "Y = {Y[1] , Y[2] , . . . , Y[16]} be a new input.\n"
      ],
      "metadata": {
        "id": "OR7LYxTRjy1m"
      }
    },
    {
      "cell_type": "code",
      "source": [
        "Y = []\n",
        "for i in range(16):\n",
        "    Y.append(int(input()))\n"
      ],
      "metadata": {
        "colab": {
          "base_uri": "https://localhost:8080/"
        },
        "id": "j0XVBjv0j88y",
        "outputId": "e40c8f4a-0c10-4a1b-b20c-0bba2ab60d60"
      },
      "execution_count": null,
      "outputs": [
        {
          "name": "stdout",
          "output_type": "stream",
          "text": [
            "1\n",
            "0\n",
            "0\n",
            "0\n",
            "1\n",
            "1\n",
            "1\n",
            "1\n",
            "1\n",
            "0\n",
            "0\n",
            "1\n",
            "0\n",
            "0\n",
            "1\n",
            "1\n"
          ]
        }
      ]
    },
    {
      "cell_type": "markdown",
      "source": [
        "Finding the probability of 1 given Y and probability of 0 given Y."
      ],
      "metadata": {
        "id": "1gZILdkUmGWm"
      }
    },
    {
      "cell_type": "code",
      "source": [
        "p_y0 = 1\n",
        "p_y1 = 1\n",
        "\n",
        "for i in range(16):\n",
        "    if Y[i] == 1:\n",
        "        p_y0 = p_y0*(P_0[i])\n",
        "        p_y1 = p_y1*(P_1[i])\n",
        "    else:\n",
        "        p_y0 = p_y0*(1-P_0[i])\n",
        "        p_y1 = p_y1*(1-P_1[i])\n",
        "\n",
        "if (p_y0 > p_y1):\n",
        "    print(\"Image is more likely to be a 0.\")\n",
        "else:\n",
        "    print(\"Image is more likely to be a 1.\")"
      ],
      "metadata": {
        "colab": {
          "base_uri": "https://localhost:8080/"
        },
        "id": "UopRcbWpmN8C",
        "outputId": "d75b3b59-702b-4bb3-9394-14321d8c8e4c"
      },
      "execution_count": null,
      "outputs": [
        {
          "output_type": "stream",
          "name": "stdout",
          "text": [
            "Image is more likely to be a 0.\n"
          ]
        }
      ]
    }
  ]
}